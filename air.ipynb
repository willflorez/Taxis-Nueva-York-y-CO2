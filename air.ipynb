{
 "cells": [
  {
   "cell_type": "code",
   "execution_count": 4,
   "metadata": {},
   "outputs": [],
   "source": [
    "import pandas as pd\n",
    "import clase_funciones_EDA\n",
    "from clase_funciones_EDA import funciones_EDA"
   ]
  },
  {
   "cell_type": "code",
   "execution_count": 5,
   "metadata": {},
   "outputs": [
    {
     "data": {
      "text/html": [
       "<div>\n",
       "<style scoped>\n",
       "    .dataframe tbody tr th:only-of-type {\n",
       "        vertical-align: middle;\n",
       "    }\n",
       "\n",
       "    .dataframe tbody tr th {\n",
       "        vertical-align: top;\n",
       "    }\n",
       "\n",
       "    .dataframe thead th {\n",
       "        text-align: right;\n",
       "    }\n",
       "</style>\n",
       "<table border=\"1\" class=\"dataframe\">\n",
       "  <thead>\n",
       "    <tr style=\"text-align: right;\">\n",
       "      <th></th>\n",
       "      <th>Unique ID</th>\n",
       "      <th>Indicator ID</th>\n",
       "      <th>Name</th>\n",
       "      <th>Measure</th>\n",
       "      <th>Measure Info</th>\n",
       "      <th>Geo Type Name</th>\n",
       "      <th>Geo Join ID</th>\n",
       "      <th>Geo Place Name</th>\n",
       "      <th>Time Period</th>\n",
       "      <th>Start_Date</th>\n",
       "      <th>Data Value</th>\n",
       "      <th>Message</th>\n",
       "    </tr>\n",
       "  </thead>\n",
       "  <tbody>\n",
       "    <tr>\n",
       "      <th>0</th>\n",
       "      <td>216498</td>\n",
       "      <td>386</td>\n",
       "      <td>Ozone (O3)</td>\n",
       "      <td>Mean</td>\n",
       "      <td>ppb</td>\n",
       "      <td>CD</td>\n",
       "      <td>313</td>\n",
       "      <td>Coney Island (CD13)</td>\n",
       "      <td>Summer 2013</td>\n",
       "      <td>06/01/2013</td>\n",
       "      <td>34.64</td>\n",
       "      <td>NaN</td>\n",
       "    </tr>\n",
       "    <tr>\n",
       "      <th>1</th>\n",
       "      <td>216499</td>\n",
       "      <td>386</td>\n",
       "      <td>Ozone (O3)</td>\n",
       "      <td>Mean</td>\n",
       "      <td>ppb</td>\n",
       "      <td>CD</td>\n",
       "      <td>313</td>\n",
       "      <td>Coney Island (CD13)</td>\n",
       "      <td>Summer 2014</td>\n",
       "      <td>06/01/2014</td>\n",
       "      <td>33.22</td>\n",
       "      <td>NaN</td>\n",
       "    </tr>\n",
       "  </tbody>\n",
       "</table>\n",
       "</div>"
      ],
      "text/plain": [
       "   Unique ID  Indicator ID        Name  ...  Start_Date Data Value Message\n",
       "0     216498           386  Ozone (O3)  ...  06/01/2013      34.64     NaN\n",
       "1     216499           386  Ozone (O3)  ...  06/01/2014      33.22     NaN\n",
       "\n",
       "[2 rows x 12 columns]"
      ]
     },
     "execution_count": 5,
     "metadata": {},
     "output_type": "execute_result"
    }
   ],
   "source": [
    "air = pd.read_csv('Air_Quality_20231023.csv')\n",
    "air.head(2)"
   ]
  },
  {
   "cell_type": "code",
   "execution_count": null,
   "metadata": {},
   "outputs": [],
   "source": [
    "instancia = "
   ]
  }
 ],
 "metadata": {
  "kernelspec": {
   "display_name": "Python 3",
   "language": "python",
   "name": "python3"
  },
  "language_info": {
   "codemirror_mode": {
    "name": "ipython",
    "version": 3
   },
   "file_extension": ".py",
   "mimetype": "text/x-python",
   "name": "python",
   "nbconvert_exporter": "python",
   "pygments_lexer": "ipython3",
   "version": "3.11.5"
  }
 },
 "nbformat": 4,
 "nbformat_minor": 2
}
