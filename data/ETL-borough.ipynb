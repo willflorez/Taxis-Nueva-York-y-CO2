{
 "cells": [
  {
   "cell_type": "markdown",
   "metadata": {},
   "source": []
  },
  {
   "cell_type": "code",
   "execution_count": 1,
   "metadata": {},
   "outputs": [],
   "source": [
    "import pandas as pd"
   ]
  },
  {
   "cell_type": "code",
   "execution_count": 2,
   "metadata": {},
   "outputs": [
    {
     "data": {
      "text/html": [
       "<div>\n",
       "<style scoped>\n",
       "    .dataframe tbody tr th:only-of-type {\n",
       "        vertical-align: middle;\n",
       "    }\n",
       "\n",
       "    .dataframe tbody tr th {\n",
       "        vertical-align: top;\n",
       "    }\n",
       "\n",
       "    .dataframe thead th {\n",
       "        text-align: right;\n",
       "    }\n",
       "</style>\n",
       "<table border=\"1\" class=\"dataframe\">\n",
       "  <thead>\n",
       "    <tr style=\"text-align: right;\">\n",
       "      <th></th>\n",
       "      <th>LocationID</th>\n",
       "      <th>Borough</th>\n",
       "      <th>Zone</th>\n",
       "      <th>service_zone</th>\n",
       "    </tr>\n",
       "  </thead>\n",
       "  <tbody>\n",
       "    <tr>\n",
       "      <th>0</th>\n",
       "      <td>1</td>\n",
       "      <td>EWR</td>\n",
       "      <td>Newark Airport</td>\n",
       "      <td>EWR</td>\n",
       "    </tr>\n",
       "    <tr>\n",
       "      <th>1</th>\n",
       "      <td>2</td>\n",
       "      <td>Queens</td>\n",
       "      <td>Jamaica Bay</td>\n",
       "      <td>Boro Zone</td>\n",
       "    </tr>\n",
       "    <tr>\n",
       "      <th>2</th>\n",
       "      <td>3</td>\n",
       "      <td>Bronx</td>\n",
       "      <td>Allerton/Pelham Gardens</td>\n",
       "      <td>Boro Zone</td>\n",
       "    </tr>\n",
       "    <tr>\n",
       "      <th>3</th>\n",
       "      <td>4</td>\n",
       "      <td>Manhattan</td>\n",
       "      <td>Alphabet City</td>\n",
       "      <td>Yellow Zone</td>\n",
       "    </tr>\n",
       "    <tr>\n",
       "      <th>4</th>\n",
       "      <td>5</td>\n",
       "      <td>Staten Island</td>\n",
       "      <td>Arden Heights</td>\n",
       "      <td>Boro Zone</td>\n",
       "    </tr>\n",
       "    <tr>\n",
       "      <th>...</th>\n",
       "      <td>...</td>\n",
       "      <td>...</td>\n",
       "      <td>...</td>\n",
       "      <td>...</td>\n",
       "    </tr>\n",
       "    <tr>\n",
       "      <th>260</th>\n",
       "      <td>261</td>\n",
       "      <td>Manhattan</td>\n",
       "      <td>World Trade Center</td>\n",
       "      <td>Yellow Zone</td>\n",
       "    </tr>\n",
       "    <tr>\n",
       "      <th>261</th>\n",
       "      <td>262</td>\n",
       "      <td>Manhattan</td>\n",
       "      <td>Yorkville East</td>\n",
       "      <td>Yellow Zone</td>\n",
       "    </tr>\n",
       "    <tr>\n",
       "      <th>262</th>\n",
       "      <td>263</td>\n",
       "      <td>Manhattan</td>\n",
       "      <td>Yorkville West</td>\n",
       "      <td>Yellow Zone</td>\n",
       "    </tr>\n",
       "    <tr>\n",
       "      <th>263</th>\n",
       "      <td>264</td>\n",
       "      <td>Unknown</td>\n",
       "      <td>NV</td>\n",
       "      <td>NaN</td>\n",
       "    </tr>\n",
       "    <tr>\n",
       "      <th>264</th>\n",
       "      <td>265</td>\n",
       "      <td>Unknown</td>\n",
       "      <td>NaN</td>\n",
       "      <td>NaN</td>\n",
       "    </tr>\n",
       "  </tbody>\n",
       "</table>\n",
       "<p>265 rows × 4 columns</p>\n",
       "</div>"
      ],
      "text/plain": [
       "     LocationID        Borough                     Zone service_zone\n",
       "0             1            EWR           Newark Airport          EWR\n",
       "1             2         Queens              Jamaica Bay    Boro Zone\n",
       "2             3          Bronx  Allerton/Pelham Gardens    Boro Zone\n",
       "3             4      Manhattan            Alphabet City  Yellow Zone\n",
       "4             5  Staten Island            Arden Heights    Boro Zone\n",
       "..          ...            ...                      ...          ...\n",
       "260         261      Manhattan       World Trade Center  Yellow Zone\n",
       "261         262      Manhattan           Yorkville East  Yellow Zone\n",
       "262         263      Manhattan           Yorkville West  Yellow Zone\n",
       "263         264        Unknown                       NV          NaN\n",
       "264         265        Unknown                      NaN          NaN\n",
       "\n",
       "[265 rows x 4 columns]"
      ]
     },
     "execution_count": 2,
     "metadata": {},
     "output_type": "execute_result"
    }
   ],
   "source": [
    "taxi = pd.read_csv('Taxi/taxi+_zone_lookup.csv')\n",
    "taxi"
   ]
  },
  {
   "cell_type": "code",
   "execution_count": 4,
   "metadata": {},
   "outputs": [],
   "source": [
    "taxi = taxi.rename(columns={'LocationID': 'PULocationID', 'Borough': 'PUBorough', 'Zone': 'PUZone'})"
   ]
  },
  {
   "cell_type": "code",
   "execution_count": 24,
   "metadata": {},
   "outputs": [
    {
     "name": "stdout",
     "output_type": "stream",
     "text": [
      "<class 'pandas.core.frame.DataFrame'>\n",
      "RangeIndex: 3066766 entries, 0 to 3066765\n",
      "Data columns (total 19 columns):\n",
      " #   Column                 Dtype         \n",
      "---  ------                 -----         \n",
      " 0   VendorID               int64         \n",
      " 1   tpep_pickup_datetime   datetime64[ns]\n",
      " 2   tpep_dropoff_datetime  datetime64[ns]\n",
      " 3   passenger_count        float64       \n",
      " 4   trip_distance          float64       \n",
      " 5   RatecodeID             float64       \n",
      " 6   store_and_fwd_flag     object        \n",
      " 7   PULocationID           int64         \n",
      " 8   DOLocationID           int64         \n",
      " 9   payment_type           int64         \n",
      " 10  fare_amount            float64       \n",
      " 11  extra                  float64       \n",
      " 12  mta_tax                float64       \n",
      " 13  tip_amount             float64       \n",
      " 14  tolls_amount           float64       \n",
      " 15  improvement_surcharge  float64       \n",
      " 16  total_amount           float64       \n",
      " 17  congestion_surcharge   float64       \n",
      " 18  airport_fee            float64       \n",
      "dtypes: datetime64[ns](2), float64(12), int64(4), object(1)\n",
      "memory usage: 444.6+ MB\n"
     ]
    }
   ],
   "source": [
    "enero = pd.read_parquet('Taxi/yellow_tripdata_2023-01.parquet')\n",
    "enero.info()"
   ]
  },
  {
   "cell_type": "code",
   "execution_count": 25,
   "metadata": {},
   "outputs": [],
   "source": [
    "enero = pd.merge(enero, taxi, on='PULocationID')"
   ]
  },
  {
   "cell_type": "code",
   "execution_count": 26,
   "metadata": {},
   "outputs": [],
   "source": [
    "enero.drop(['VendorID','passenger_count','RatecodeID','store_and_fwd_flag','PULocationID','DOLocationID','payment_type','extra',\n",
    "            'mta_tax','tip_amount','tolls_amount','improvement_surcharge','congestion_surcharge','airport_fee','total_amount'], axis=1, inplace=True)"
   ]
  },
  {
   "cell_type": "code",
   "execution_count": 19,
   "metadata": {},
   "outputs": [],
   "source": [
    "conteo_enero = enero['PUBorough'].value_counts()"
   ]
  },
  {
   "cell_type": "code",
   "execution_count": 27,
   "metadata": {},
   "outputs": [],
   "source": [
    "borough_dataframes = {}\n",
    "for borough, group in enero.groupby('PUBorough'):\n",
    "    borough_dataframes[borough] = group\n",
    "\n",
    "# Acceder a los DataFrames individuales\n",
    "manhattan_df = borough_dataframes['Manhattan']\n",
    "brooklyn_df = borough_dataframes['Brooklyn']\n",
    "queens_df = borough_dataframes['Queens']\n",
    "bronx_df = borough_dataframes['Bronx']\n",
    "staten_island_df = borough_dataframes['Staten Island']"
   ]
  },
  {
   "cell_type": "code",
   "execution_count": 28,
   "metadata": {},
   "outputs": [],
   "source": [
    "enero_manhattan01 = manhattan_df.sample(frac=0.01, random_state=42)\n",
    "enero_brooklin01 = brooklyn_df.sample(frac=0.01, random_state=42)\n",
    "enero_queens01 = queens_df.sample(frac=0.01, random_state=42)\n",
    "enero_bronx01 = bronx_df.sample(frac=0.01, random_state=42)\n",
    "enero_stand01 = staten_island_df.sample(frac=0.01, random_state=42)"
   ]
  },
  {
   "cell_type": "code",
   "execution_count": 29,
   "metadata": {},
   "outputs": [],
   "source": [
    "enero_borough = pd.concat([enero_manhattan01, enero_brooklin01, enero_queens01, enero_bronx01, enero_stand01], ignore_index=True)\n"
   ]
  },
  {
   "cell_type": "code",
   "execution_count": 41,
   "metadata": {},
   "outputs": [],
   "source": [
    "enero_borough.to_csv('enero.csv')"
   ]
  },
  {
   "cell_type": "code",
   "execution_count": 31,
   "metadata": {},
   "outputs": [],
   "source": [
    "febrero = pd.read_parquet('Taxi/yellow_tripdata_2023-02.parquet')"
   ]
  },
  {
   "cell_type": "code",
   "execution_count": 32,
   "metadata": {},
   "outputs": [],
   "source": [
    "febrero = pd.merge(febrero, taxi, on='PULocationID')"
   ]
  },
  {
   "cell_type": "code",
   "execution_count": 35,
   "metadata": {},
   "outputs": [],
   "source": [
    "febrero.drop(['VendorID','passenger_count','RatecodeID','store_and_fwd_flag','PULocationID','DOLocationID','payment_type','extra',\n",
    "            'mta_tax','tip_amount','tolls_amount','improvement_surcharge','congestion_surcharge','Airport_fee','total_amount'], axis=1, inplace=True)"
   ]
  },
  {
   "cell_type": "code",
   "execution_count": 37,
   "metadata": {},
   "outputs": [],
   "source": [
    "borough_dataframes = {}\n",
    "for borough, group in febrero.groupby('PUBorough'):\n",
    "    borough_dataframes[borough] = group\n",
    "\n",
    "# Acceder a los DataFrames individuales\n",
    "manhattan_feb = borough_dataframes['Manhattan']\n",
    "brooklyn_feb = borough_dataframes['Brooklyn']\n",
    "queens_feb = borough_dataframes['Queens']\n",
    "bronx_feb = borough_dataframes['Bronx']\n",
    "staten_island_feb = borough_dataframes['Staten Island']"
   ]
  },
  {
   "cell_type": "code",
   "execution_count": 38,
   "metadata": {},
   "outputs": [],
   "source": [
    "febrero_manhattan01 = manhattan_feb.sample(frac=0.01, random_state=42)\n",
    "febrero_brooklin01 = brooklyn_feb.sample(frac=0.01, random_state=42)\n",
    "febrero_queens01 = queens_feb.sample(frac=0.01, random_state=42)\n",
    "febrero_bronx01 = bronx_feb.sample(frac=0.01, random_state=42)\n",
    "febrero_stand01 = staten_island_feb.sample(frac=0.01, random_state=42)"
   ]
  },
  {
   "cell_type": "code",
   "execution_count": 39,
   "metadata": {},
   "outputs": [],
   "source": [
    "febrero_borough = pd.concat([febrero_manhattan01, febrero_brooklin01, febrero_queens01, febrero_bronx01, febrero_stand01], ignore_index=True)\n"
   ]
  },
  {
   "cell_type": "code",
   "execution_count": 42,
   "metadata": {},
   "outputs": [],
   "source": [
    "febrero_borough.to_csv('febrero.csv')"
   ]
  },
  {
   "cell_type": "code",
   "execution_count": 40,
   "metadata": {},
   "outputs": [],
   "source": [
    "marzo = pd.read_parquet('Taxi/yellow_tripdata_2023-03.parquet')"
   ]
  },
  {
   "cell_type": "code",
   "execution_count": 43,
   "metadata": {},
   "outputs": [],
   "source": [
    "marzo = pd.merge(marzo, taxi, on='PULocationID')"
   ]
  },
  {
   "cell_type": "code",
   "execution_count": 45,
   "metadata": {},
   "outputs": [],
   "source": [
    "marzo.drop(['VendorID','passenger_count','RatecodeID','store_and_fwd_flag','PULocationID','DOLocationID','payment_type','extra',\n",
    "            'mta_tax','tip_amount','tolls_amount','improvement_surcharge','congestion_surcharge','Airport_fee','total_amount'], axis=1, inplace=True)"
   ]
  },
  {
   "cell_type": "code",
   "execution_count": 46,
   "metadata": {},
   "outputs": [],
   "source": [
    "borough_dataframes = {}\n",
    "for borough, group in marzo.groupby('PUBorough'):\n",
    "    borough_dataframes[borough] = group\n",
    "\n",
    "# Acceder a los DataFrames individuales\n",
    "manhattan_mar = borough_dataframes['Manhattan']\n",
    "brooklyn_mar = borough_dataframes['Brooklyn']\n",
    "queens_mar = borough_dataframes['Queens']\n",
    "bronx_mar = borough_dataframes['Bronx']\n",
    "staten_island_mar = borough_dataframes['Staten Island']"
   ]
  },
  {
   "cell_type": "code",
   "execution_count": 47,
   "metadata": {},
   "outputs": [],
   "source": [
    "marzo_manhattan01 = manhattan_mar.sample(frac=0.01, random_state=42)\n",
    "marzo_brooklin01 = brooklyn_mar.sample(frac=0.01, random_state=42)\n",
    "marzo_queens01 = queens_mar.sample(frac=0.01, random_state=42)\n",
    "marzo_bronx01 = bronx_mar.sample(frac=0.01, random_state=42)\n",
    "marzo_stand01 = staten_island_mar.sample(frac=0.01, random_state=42)"
   ]
  },
  {
   "cell_type": "code",
   "execution_count": 48,
   "metadata": {},
   "outputs": [],
   "source": [
    "marzo_borough = pd.concat([marzo_manhattan01, marzo_brooklin01, marzo_queens01, marzo_bronx01, marzo_stand01], ignore_index=True)\n"
   ]
  },
  {
   "cell_type": "code",
   "execution_count": 49,
   "metadata": {},
   "outputs": [],
   "source": [
    "marzo_borough.to_csv('marzo.csv')"
   ]
  },
  {
   "cell_type": "code",
   "execution_count": 50,
   "metadata": {},
   "outputs": [],
   "source": [
    "abril = pd.read_parquet('Taxi/yellow_tripdata_2023-04.parquet')"
   ]
  },
  {
   "cell_type": "code",
   "execution_count": 51,
   "metadata": {},
   "outputs": [],
   "source": [
    "abril = pd.merge(abril, taxi, on='PULocationID')"
   ]
  },
  {
   "cell_type": "code",
   "execution_count": 52,
   "metadata": {},
   "outputs": [],
   "source": [
    "abril.drop(['VendorID','passenger_count','RatecodeID','store_and_fwd_flag','PULocationID','DOLocationID','payment_type','extra',\n",
    "            'mta_tax','tip_amount','tolls_amount','improvement_surcharge','congestion_surcharge','Airport_fee','total_amount'], axis=1, inplace=True)"
   ]
  },
  {
   "cell_type": "code",
   "execution_count": 53,
   "metadata": {},
   "outputs": [],
   "source": [
    "borough_dataframes = {}\n",
    "for borough, group in abril.groupby('PUBorough'):\n",
    "    borough_dataframes[borough] = group\n",
    "\n",
    "# Acceder a los DataFrames individuales\n",
    "manhattan_abr = borough_dataframes['Manhattan']\n",
    "brooklyn_abr = borough_dataframes['Brooklyn']\n",
    "queens_abr = borough_dataframes['Queens']\n",
    "bronx_abr = borough_dataframes['Bronx']\n",
    "staten_island_abr = borough_dataframes['Staten Island']"
   ]
  },
  {
   "cell_type": "code",
   "execution_count": 54,
   "metadata": {},
   "outputs": [],
   "source": [
    "abril_manhattan01 = manhattan_abr.sample(frac=0.01, random_state=42)\n",
    "abril_brooklin01 = brooklyn_abr.sample(frac=0.01, random_state=42)\n",
    "abril_queens01 = queens_abr.sample(frac=0.01, random_state=42)\n",
    "abril_bronx01 = bronx_abr.sample(frac=0.01, random_state=42)\n",
    "abril_stand01 = staten_island_abr.sample(frac=0.01, random_state=42)"
   ]
  },
  {
   "cell_type": "code",
   "execution_count": 55,
   "metadata": {},
   "outputs": [],
   "source": [
    "abril_borough = pd.concat([abril_manhattan01, abril_brooklin01, abril_queens01, abril_bronx01, abril_stand01], ignore_index=True)"
   ]
  },
  {
   "cell_type": "code",
   "execution_count": 56,
   "metadata": {},
   "outputs": [],
   "source": [
    "abril_borough.to_csv('abril.csv')"
   ]
  },
  {
   "cell_type": "code",
   "execution_count": 57,
   "metadata": {},
   "outputs": [],
   "source": [
    "mayo = pd.read_parquet('Taxi/yellow_tripdata_2023-05.parquet')"
   ]
  },
  {
   "cell_type": "code",
   "execution_count": 58,
   "metadata": {},
   "outputs": [],
   "source": [
    "mayo = pd.merge(mayo, taxi, on='PULocationID')"
   ]
  },
  {
   "cell_type": "code",
   "execution_count": 59,
   "metadata": {},
   "outputs": [],
   "source": [
    "mayo.drop(['VendorID','passenger_count','RatecodeID','store_and_fwd_flag','PULocationID','DOLocationID','payment_type','extra',\n",
    "            'mta_tax','tip_amount','tolls_amount','improvement_surcharge','congestion_surcharge','Airport_fee','total_amount'], axis=1, inplace=True)"
   ]
  },
  {
   "cell_type": "code",
   "execution_count": 60,
   "metadata": {},
   "outputs": [],
   "source": [
    "borough_dataframes = {}\n",
    "for borough, group in mayo.groupby('PUBorough'):\n",
    "    borough_dataframes[borough] = group\n",
    "\n",
    "# Acceder a los DataFrames individuales\n",
    "manhattan_may = borough_dataframes['Manhattan']\n",
    "brooklyn_may = borough_dataframes['Brooklyn']\n",
    "queens_may = borough_dataframes['Queens']\n",
    "bronx_may = borough_dataframes['Bronx']\n",
    "staten_island_may = borough_dataframes['Staten Island']"
   ]
  },
  {
   "cell_type": "code",
   "execution_count": 61,
   "metadata": {},
   "outputs": [],
   "source": [
    "mayo_manhattan01 = manhattan_may.sample(frac=0.01, random_state=42)\n",
    "mayo_brooklin01 = brooklyn_may.sample(frac=0.01, random_state=42)\n",
    "mayo_queens01 = queens_may.sample(frac=0.01, random_state=42)\n",
    "mayo_bronx01 = bronx_may.sample(frac=0.01, random_state=42)\n",
    "mayo_stand01 = staten_island_may.sample(frac=0.01, random_state=42)"
   ]
  },
  {
   "cell_type": "code",
   "execution_count": 62,
   "metadata": {},
   "outputs": [],
   "source": [
    "mayo_borough = pd.concat([mayo_manhattan01, mayo_brooklin01, mayo_queens01, mayo_bronx01, mayo_stand01], ignore_index=True)"
   ]
  },
  {
   "cell_type": "code",
   "execution_count": 69,
   "metadata": {},
   "outputs": [],
   "source": [
    "mayo_borough.to_csv('mayuo.csv')"
   ]
  },
  {
   "cell_type": "code",
   "execution_count": 63,
   "metadata": {},
   "outputs": [],
   "source": [
    "junio = pd.read_parquet('Taxi/yellow_tripdata_2023-06.parquet')\n"
   ]
  },
  {
   "cell_type": "code",
   "execution_count": 64,
   "metadata": {},
   "outputs": [],
   "source": [
    "junio = pd.merge(junio, taxi, on='PULocationID')"
   ]
  },
  {
   "cell_type": "code",
   "execution_count": 65,
   "metadata": {},
   "outputs": [],
   "source": [
    "junio.drop(['VendorID','passenger_count','RatecodeID','store_and_fwd_flag','PULocationID','DOLocationID','payment_type','extra',\n",
    "            'mta_tax','tip_amount','tolls_amount','improvement_surcharge','congestion_surcharge','Airport_fee','total_amount'], axis=1, inplace=True)"
   ]
  },
  {
   "cell_type": "code",
   "execution_count": 66,
   "metadata": {},
   "outputs": [],
   "source": [
    "borough_dataframes = {}\n",
    "for borough, group in junio.groupby('PUBorough'):\n",
    "    borough_dataframes[borough] = group\n",
    "\n",
    "# Acceder a los DataFrames individuales\n",
    "manhattan_jun = borough_dataframes['Manhattan']\n",
    "brooklyn_jun = borough_dataframes['Brooklyn']\n",
    "queens_jun = borough_dataframes['Queens']\n",
    "bronx_jun = borough_dataframes['Bronx']\n",
    "staten_island_jun = borough_dataframes['Staten Island']"
   ]
  },
  {
   "cell_type": "code",
   "execution_count": 67,
   "metadata": {},
   "outputs": [],
   "source": [
    "junio_manhattan01 = manhattan_jun.sample(frac=0.01, random_state=42)\n",
    "junio_brooklin01 = brooklyn_jun.sample(frac=0.01, random_state=42)\n",
    "junio_queens01 = queens_jun.sample(frac=0.01, random_state=42)\n",
    "junio_bronx01 = bronx_jun.sample(frac=0.01, random_state=42)\n",
    "junio_stand01 = staten_island_jun.sample(frac=0.01, random_state=42)"
   ]
  },
  {
   "cell_type": "code",
   "execution_count": 68,
   "metadata": {},
   "outputs": [],
   "source": [
    "junio_borough = pd.concat([junio_manhattan01, junio_brooklin01, junio_queens01, junio_bronx01, junio_stand01], ignore_index=True)"
   ]
  },
  {
   "cell_type": "code",
   "execution_count": 70,
   "metadata": {},
   "outputs": [],
   "source": [
    "junio_borough.to_csv('junio.csv')"
   ]
  },
  {
   "cell_type": "code",
   "execution_count": 78,
   "metadata": {},
   "outputs": [],
   "source": [
    "total = len(enero_borough) + len(febrero_borough) + len(marzo_borough) + len(abril_borough) + len(mayo_borough) + len(junio_borough)"
   ]
  },
  {
   "cell_type": "code",
   "execution_count": 82,
   "metadata": {},
   "outputs": [
    {
     "data": {
      "text/plain": [
       "192671"
      ]
     },
     "execution_count": 82,
     "metadata": {},
     "output_type": "execute_result"
    }
   ],
   "source": [
    "total"
   ]
  },
  {
   "cell_type": "code",
   "execution_count": 80,
   "metadata": {},
   "outputs": [],
   "source": [
    "dataframes = [enero_borough,febrero_borough,marzo_borough,abril_borough,mayo_borough,junio_borough]"
   ]
  },
  {
   "cell_type": "code",
   "execution_count": 81,
   "metadata": {},
   "outputs": [],
   "source": [
    "boroughs = pd.concat(dataframes, ignore_index=True)"
   ]
  },
  {
   "cell_type": "code",
   "execution_count": 84,
   "metadata": {},
   "outputs": [],
   "source": [
    "boroughs.to_csv('boroughs.csv')"
   ]
  }
 ],
 "metadata": {
  "kernelspec": {
   "display_name": "Python 3",
   "language": "python",
   "name": "python3"
  },
  "language_info": {
   "codemirror_mode": {
    "name": "ipython",
    "version": 3
   },
   "file_extension": ".py",
   "mimetype": "text/x-python",
   "name": "python",
   "nbconvert_exporter": "python",
   "pygments_lexer": "ipython3",
   "version": "3.10.11"
  }
 },
 "nbformat": 4,
 "nbformat_minor": 2
}
