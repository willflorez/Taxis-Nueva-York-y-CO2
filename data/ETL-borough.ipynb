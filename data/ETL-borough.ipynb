{
 "cells": [
  {
   "cell_type": "markdown",
   "metadata": {},
   "source": []
  },
  {
   "cell_type": "code",
   "execution_count": 10,
   "metadata": {},
   "outputs": [],
   "source": [
    "import pandas as pd"
   ]
  },
  {
   "cell_type": "code",
   "execution_count": 2,
   "metadata": {},
   "outputs": [
    {
     "data": {
      "text/html": [
       "<div>\n",
       "<style scoped>\n",
       "    .dataframe tbody tr th:only-of-type {\n",
       "        vertical-align: middle;\n",
       "    }\n",
       "\n",
       "    .dataframe tbody tr th {\n",
       "        vertical-align: top;\n",
       "    }\n",
       "\n",
       "    .dataframe thead th {\n",
       "        text-align: right;\n",
       "    }\n",
       "</style>\n",
       "<table border=\"1\" class=\"dataframe\">\n",
       "  <thead>\n",
       "    <tr style=\"text-align: right;\">\n",
       "      <th></th>\n",
       "      <th>LocationID</th>\n",
       "      <th>Borough</th>\n",
       "      <th>Zone</th>\n",
       "      <th>service_zone</th>\n",
       "    </tr>\n",
       "  </thead>\n",
       "  <tbody>\n",
       "    <tr>\n",
       "      <th>0</th>\n",
       "      <td>1</td>\n",
       "      <td>EWR</td>\n",
       "      <td>Newark Airport</td>\n",
       "      <td>EWR</td>\n",
       "    </tr>\n",
       "    <tr>\n",
       "      <th>1</th>\n",
       "      <td>2</td>\n",
       "      <td>Queens</td>\n",
       "      <td>Jamaica Bay</td>\n",
       "      <td>Boro Zone</td>\n",
       "    </tr>\n",
       "    <tr>\n",
       "      <th>2</th>\n",
       "      <td>3</td>\n",
       "      <td>Bronx</td>\n",
       "      <td>Allerton/Pelham Gardens</td>\n",
       "      <td>Boro Zone</td>\n",
       "    </tr>\n",
       "    <tr>\n",
       "      <th>3</th>\n",
       "      <td>4</td>\n",
       "      <td>Manhattan</td>\n",
       "      <td>Alphabet City</td>\n",
       "      <td>Yellow Zone</td>\n",
       "    </tr>\n",
       "    <tr>\n",
       "      <th>4</th>\n",
       "      <td>5</td>\n",
       "      <td>Staten Island</td>\n",
       "      <td>Arden Heights</td>\n",
       "      <td>Boro Zone</td>\n",
       "    </tr>\n",
       "    <tr>\n",
       "      <th>...</th>\n",
       "      <td>...</td>\n",
       "      <td>...</td>\n",
       "      <td>...</td>\n",
       "      <td>...</td>\n",
       "    </tr>\n",
       "    <tr>\n",
       "      <th>260</th>\n",
       "      <td>261</td>\n",
       "      <td>Manhattan</td>\n",
       "      <td>World Trade Center</td>\n",
       "      <td>Yellow Zone</td>\n",
       "    </tr>\n",
       "    <tr>\n",
       "      <th>261</th>\n",
       "      <td>262</td>\n",
       "      <td>Manhattan</td>\n",
       "      <td>Yorkville East</td>\n",
       "      <td>Yellow Zone</td>\n",
       "    </tr>\n",
       "    <tr>\n",
       "      <th>262</th>\n",
       "      <td>263</td>\n",
       "      <td>Manhattan</td>\n",
       "      <td>Yorkville West</td>\n",
       "      <td>Yellow Zone</td>\n",
       "    </tr>\n",
       "    <tr>\n",
       "      <th>263</th>\n",
       "      <td>264</td>\n",
       "      <td>Unknown</td>\n",
       "      <td>NV</td>\n",
       "      <td>NaN</td>\n",
       "    </tr>\n",
       "    <tr>\n",
       "      <th>264</th>\n",
       "      <td>265</td>\n",
       "      <td>Unknown</td>\n",
       "      <td>NaN</td>\n",
       "      <td>NaN</td>\n",
       "    </tr>\n",
       "  </tbody>\n",
       "</table>\n",
       "<p>265 rows × 4 columns</p>\n",
       "</div>"
      ],
      "text/plain": [
       "     LocationID        Borough                     Zone service_zone\n",
       "0             1            EWR           Newark Airport          EWR\n",
       "1             2         Queens              Jamaica Bay    Boro Zone\n",
       "2             3          Bronx  Allerton/Pelham Gardens    Boro Zone\n",
       "3             4      Manhattan            Alphabet City  Yellow Zone\n",
       "4             5  Staten Island            Arden Heights    Boro Zone\n",
       "..          ...            ...                      ...          ...\n",
       "260         261      Manhattan       World Trade Center  Yellow Zone\n",
       "261         262      Manhattan           Yorkville East  Yellow Zone\n",
       "262         263      Manhattan           Yorkville West  Yellow Zone\n",
       "263         264        Unknown                       NV          NaN\n",
       "264         265        Unknown                      NaN          NaN\n",
       "\n",
       "[265 rows x 4 columns]"
      ]
     },
     "execution_count": 2,
     "metadata": {},
     "output_type": "execute_result"
    }
   ],
   "source": [
    "taxi = pd.read_csv('Taxi/taxi+_zone_lookup.csv')\n",
    "taxi"
   ]
  },
  {
   "cell_type": "code",
   "execution_count": 4,
   "metadata": {},
   "outputs": [],
   "source": [
    "taxi = taxi.rename(columns={'LocationID': 'PULocationID', 'Borough': 'PUBorough', 'Zone': 'PUZone'})"
   ]
  },
  {
   "cell_type": "code",
   "execution_count": 24,
   "metadata": {},
   "outputs": [
    {
     "name": "stdout",
     "output_type": "stream",
     "text": [
      "<class 'pandas.core.frame.DataFrame'>\n",
      "RangeIndex: 3066766 entries, 0 to 3066765\n",
      "Data columns (total 19 columns):\n",
      " #   Column                 Dtype         \n",
      "---  ------                 -----         \n",
      " 0   VendorID               int64         \n",
      " 1   tpep_pickup_datetime   datetime64[ns]\n",
      " 2   tpep_dropoff_datetime  datetime64[ns]\n",
      " 3   passenger_count        float64       \n",
      " 4   trip_distance          float64       \n",
      " 5   RatecodeID             float64       \n",
      " 6   store_and_fwd_flag     object        \n",
      " 7   PULocationID           int64         \n",
      " 8   DOLocationID           int64         \n",
      " 9   payment_type           int64         \n",
      " 10  fare_amount            float64       \n",
      " 11  extra                  float64       \n",
      " 12  mta_tax                float64       \n",
      " 13  tip_amount             float64       \n",
      " 14  tolls_amount           float64       \n",
      " 15  improvement_surcharge  float64       \n",
      " 16  total_amount           float64       \n",
      " 17  congestion_surcharge   float64       \n",
      " 18  airport_fee            float64       \n",
      "dtypes: datetime64[ns](2), float64(12), int64(4), object(1)\n",
      "memory usage: 444.6+ MB\n"
     ]
    }
   ],
   "source": [
    "enero = pd.read_parquet('Taxi/yellow_tripdata_2023-01.parquet')\n",
    "enero.info()"
   ]
  },
  {
   "cell_type": "code",
   "execution_count": 25,
   "metadata": {},
   "outputs": [],
   "source": [
    "enero = pd.merge(enero, taxi, on='PULocationID')"
   ]
  },
  {
   "cell_type": "code",
   "execution_count": 26,
   "metadata": {},
   "outputs": [],
   "source": [
    "enero.drop(['VendorID','passenger_count','RatecodeID','store_and_fwd_flag','PULocationID','DOLocationID','payment_type','extra',\n",
    "            'mta_tax','tip_amount','tolls_amount','improvement_surcharge','congestion_surcharge','airport_fee','total_amount'], axis=1, inplace=True)"
   ]
  },
  {
   "cell_type": "code",
   "execution_count": 19,
   "metadata": {},
   "outputs": [],
   "source": [
    "conteo_enero = enero['PUBorough'].value_counts()"
   ]
  },
  {
   "cell_type": "code",
   "execution_count": 27,
   "metadata": {},
   "outputs": [],
   "source": [
    "borough_dataframes = {}\n",
    "for borough, group in enero.groupby('PUBorough'):\n",
    "    borough_dataframes[borough] = group\n",
    "\n",
    "# Acceder a los DataFrames individuales\n",
    "manhattan_df = borough_dataframes['Manhattan']\n",
    "brooklyn_df = borough_dataframes['Brooklyn']\n",
    "queens_df = borough_dataframes['Queens']\n",
    "bronx_df = borough_dataframes['Bronx']\n",
    "staten_island_df = borough_dataframes['Staten Island']"
   ]
  },
  {
   "cell_type": "code",
   "execution_count": 28,
   "metadata": {},
   "outputs": [],
   "source": [
    "enero_manhattan01 = manhattan_df.sample(frac=0.01, random_state=42)\n",
    "enero_brooklin01 = brooklyn_df.sample(frac=0.01, random_state=42)\n",
    "enero_queens01 = queens_df.sample(frac=0.01, random_state=42)\n",
    "enero_bronx01 = bronx_df.sample(frac=0.01, random_state=42)\n",
    "enero_stand01 = staten_island_df.sample(frac=0.01, random_state=42)"
   ]
  },
  {
   "cell_type": "code",
   "execution_count": 29,
   "metadata": {},
   "outputs": [],
   "source": [
    "enero_borough = pd.concat([enero_manhattan01, enero_brooklin01, enero_queens01, enero_bronx01, enero_stand01], ignore_index=True)\n"
   ]
  },
  {
   "cell_type": "code",
   "execution_count": 41,
   "metadata": {},
   "outputs": [],
   "source": [
    "enero_borough.to_csv('enero.csv')"
   ]
  },
  {
   "cell_type": "code",
   "execution_count": 31,
   "metadata": {},
   "outputs": [],
   "source": [
    "febrero = pd.read_parquet('Taxi/yellow_tripdata_2023-02.parquet')"
   ]
  },
  {
   "cell_type": "code",
   "execution_count": 32,
   "metadata": {},
   "outputs": [],
   "source": [
    "febrero = pd.merge(febrero, taxi, on='PULocationID')"
   ]
  },
  {
   "cell_type": "code",
   "execution_count": 35,
   "metadata": {},
   "outputs": [],
   "source": [
    "febrero.drop(['VendorID','passenger_count','RatecodeID','store_and_fwd_flag','PULocationID','DOLocationID','payment_type','extra',\n",
    "            'mta_tax','tip_amount','tolls_amount','improvement_surcharge','congestion_surcharge','Airport_fee','total_amount'], axis=1, inplace=True)"
   ]
  },
  {
   "cell_type": "code",
   "execution_count": 37,
   "metadata": {},
   "outputs": [],
   "source": [
    "borough_dataframes = {}\n",
    "for borough, group in febrero.groupby('PUBorough'):\n",
    "    borough_dataframes[borough] = group\n",
    "\n",
    "# Acceder a los DataFrames individuales\n",
    "manhattan_feb = borough_dataframes['Manhattan']\n",
    "brooklyn_feb = borough_dataframes['Brooklyn']\n",
    "queens_feb = borough_dataframes['Queens']\n",
    "bronx_feb = borough_dataframes['Bronx']\n",
    "staten_island_feb = borough_dataframes['Staten Island']"
   ]
  },
  {
   "cell_type": "code",
   "execution_count": 38,
   "metadata": {},
   "outputs": [],
   "source": [
    "febrero_manhattan01 = manhattan_feb.sample(frac=0.01, random_state=42)\n",
    "febrero_brooklin01 = brooklyn_feb.sample(frac=0.01, random_state=42)\n",
    "febrero_queens01 = queens_feb.sample(frac=0.01, random_state=42)\n",
    "febrero_bronx01 = bronx_feb.sample(frac=0.01, random_state=42)\n",
    "febrero_stand01 = staten_island_feb.sample(frac=0.01, random_state=42)"
   ]
  },
  {
   "cell_type": "code",
   "execution_count": 39,
   "metadata": {},
   "outputs": [],
   "source": [
    "febrero_borough = pd.concat([febrero_manhattan01, febrero_brooklin01, febrero_queens01, febrero_bronx01, febrero_stand01], ignore_index=True)\n"
   ]
  },
  {
   "cell_type": "code",
   "execution_count": 42,
   "metadata": {},
   "outputs": [],
   "source": [
    "febrero_borough.to_csv('febrero.csv')"
   ]
  },
  {
   "cell_type": "code",
   "execution_count": 40,
   "metadata": {},
   "outputs": [],
   "source": [
    "marzo = pd.read_parquet('Taxi/yellow_tripdata_2023-03.parquet')"
   ]
  },
  {
   "cell_type": "code",
   "execution_count": 43,
   "metadata": {},
   "outputs": [],
   "source": [
    "marzo = pd.merge(marzo, taxi, on='PULocationID')"
   ]
  },
  {
   "cell_type": "code",
   "execution_count": 45,
   "metadata": {},
   "outputs": [],
   "source": [
    "marzo.drop(['VendorID','passenger_count','RatecodeID','store_and_fwd_flag','PULocationID','DOLocationID','payment_type','extra',\n",
    "            'mta_tax','tip_amount','tolls_amount','improvement_surcharge','congestion_surcharge','Airport_fee','total_amount'], axis=1, inplace=True)"
   ]
  },
  {
   "cell_type": "code",
   "execution_count": 46,
   "metadata": {},
   "outputs": [],
   "source": [
    "borough_dataframes = {}\n",
    "for borough, group in marzo.groupby('PUBorough'):\n",
    "    borough_dataframes[borough] = group\n",
    "\n",
    "# Acceder a los DataFrames individuales\n",
    "manhattan_mar = borough_dataframes['Manhattan']\n",
    "brooklyn_mar = borough_dataframes['Brooklyn']\n",
    "queens_mar = borough_dataframes['Queens']\n",
    "bronx_mar = borough_dataframes['Bronx']\n",
    "staten_island_mar = borough_dataframes['Staten Island']"
   ]
  },
  {
   "cell_type": "code",
   "execution_count": 47,
   "metadata": {},
   "outputs": [],
   "source": [
    "marzo_manhattan01 = manhattan_mar.sample(frac=0.01, random_state=42)\n",
    "marzo_brooklin01 = brooklyn_mar.sample(frac=0.01, random_state=42)\n",
    "marzo_queens01 = queens_mar.sample(frac=0.01, random_state=42)\n",
    "marzo_bronx01 = bronx_mar.sample(frac=0.01, random_state=42)\n",
    "marzo_stand01 = staten_island_mar.sample(frac=0.01, random_state=42)"
   ]
  },
  {
   "cell_type": "code",
   "execution_count": 48,
   "metadata": {},
   "outputs": [],
   "source": [
    "marzo_borough = pd.concat([marzo_manhattan01, marzo_brooklin01, marzo_queens01, marzo_bronx01, marzo_stand01], ignore_index=True)\n"
   ]
  },
  {
   "cell_type": "code",
   "execution_count": 49,
   "metadata": {},
   "outputs": [],
   "source": [
    "marzo_borough.to_csv('marzo.csv')"
   ]
  },
  {
   "cell_type": "code",
   "execution_count": 50,
   "metadata": {},
   "outputs": [],
   "source": [
    "abril = pd.read_parquet('Taxi/yellow_tripdata_2023-04.parquet')"
   ]
  },
  {
   "cell_type": "code",
   "execution_count": 51,
   "metadata": {},
   "outputs": [],
   "source": [
    "abril = pd.merge(abril, taxi, on='PULocationID')"
   ]
  },
  {
   "cell_type": "code",
   "execution_count": 52,
   "metadata": {},
   "outputs": [],
   "source": [
    "abril.drop(['VendorID','passenger_count','RatecodeID','store_and_fwd_flag','PULocationID','DOLocationID','payment_type','extra',\n",
    "            'mta_tax','tip_amount','tolls_amount','improvement_surcharge','congestion_surcharge','Airport_fee','total_amount'], axis=1, inplace=True)"
   ]
  },
  {
   "cell_type": "code",
   "execution_count": 53,
   "metadata": {},
   "outputs": [],
   "source": [
    "borough_dataframes = {}\n",
    "for borough, group in abril.groupby('PUBorough'):\n",
    "    borough_dataframes[borough] = group\n",
    "\n",
    "# Acceder a los DataFrames individuales\n",
    "manhattan_abr = borough_dataframes['Manhattan']\n",
    "brooklyn_abr = borough_dataframes['Brooklyn']\n",
    "queens_abr = borough_dataframes['Queens']\n",
    "bronx_abr = borough_dataframes['Bronx']\n",
    "staten_island_abr = borough_dataframes['Staten Island']"
   ]
  },
  {
   "cell_type": "code",
   "execution_count": 54,
   "metadata": {},
   "outputs": [],
   "source": [
    "abril_manhattan01 = manhattan_abr.sample(frac=0.01, random_state=42)\n",
    "abril_brooklin01 = brooklyn_abr.sample(frac=0.01, random_state=42)\n",
    "abril_queens01 = queens_abr.sample(frac=0.01, random_state=42)\n",
    "abril_bronx01 = bronx_abr.sample(frac=0.01, random_state=42)\n",
    "abril_stand01 = staten_island_abr.sample(frac=0.01, random_state=42)"
   ]
  },
  {
   "cell_type": "code",
   "execution_count": 55,
   "metadata": {},
   "outputs": [],
   "source": [
    "abril_borough = pd.concat([abril_manhattan01, abril_brooklin01, abril_queens01, abril_bronx01, abril_stand01], ignore_index=True)"
   ]
  },
  {
   "cell_type": "code",
   "execution_count": 56,
   "metadata": {},
   "outputs": [],
   "source": [
    "abril_borough.to_csv('abril.csv')"
   ]
  },
  {
   "cell_type": "code",
   "execution_count": 57,
   "metadata": {},
   "outputs": [],
   "source": [
    "mayo = pd.read_parquet('Taxi/yellow_tripdata_2023-05.parquet')"
   ]
  },
  {
   "cell_type": "code",
   "execution_count": 58,
   "metadata": {},
   "outputs": [],
   "source": [
    "mayo = pd.merge(mayo, taxi, on='PULocationID')"
   ]
  },
  {
   "cell_type": "code",
   "execution_count": 59,
   "metadata": {},
   "outputs": [],
   "source": [
    "mayo.drop(['VendorID','passenger_count','RatecodeID','store_and_fwd_flag','PULocationID','DOLocationID','payment_type','extra',\n",
    "            'mta_tax','tip_amount','tolls_amount','improvement_surcharge','congestion_surcharge','Airport_fee','total_amount'], axis=1, inplace=True)"
   ]
  },
  {
   "cell_type": "code",
   "execution_count": 60,
   "metadata": {},
   "outputs": [],
   "source": [
    "borough_dataframes = {}\n",
    "for borough, group in mayo.groupby('PUBorough'):\n",
    "    borough_dataframes[borough] = group\n",
    "\n",
    "# Acceder a los DataFrames individuales\n",
    "manhattan_may = borough_dataframes['Manhattan']\n",
    "brooklyn_may = borough_dataframes['Brooklyn']\n",
    "queens_may = borough_dataframes['Queens']\n",
    "bronx_may = borough_dataframes['Bronx']\n",
    "staten_island_may = borough_dataframes['Staten Island']"
   ]
  },
  {
   "cell_type": "code",
   "execution_count": 61,
   "metadata": {},
   "outputs": [],
   "source": [
    "mayo_manhattan01 = manhattan_may.sample(frac=0.01, random_state=42)\n",
    "mayo_brooklin01 = brooklyn_may.sample(frac=0.01, random_state=42)\n",
    "mayo_queens01 = queens_may.sample(frac=0.01, random_state=42)\n",
    "mayo_bronx01 = bronx_may.sample(frac=0.01, random_state=42)\n",
    "mayo_stand01 = staten_island_may.sample(frac=0.01, random_state=42)"
   ]
  },
  {
   "cell_type": "code",
   "execution_count": 62,
   "metadata": {},
   "outputs": [],
   "source": [
    "mayo_borough = pd.concat([mayo_manhattan01, mayo_brooklin01, mayo_queens01, mayo_bronx01, mayo_stand01], ignore_index=True)"
   ]
  },
  {
   "cell_type": "code",
   "execution_count": 69,
   "metadata": {},
   "outputs": [],
   "source": [
    "mayo_borough.to_csv('mayuo.csv')"
   ]
  },
  {
   "cell_type": "code",
   "execution_count": 63,
   "metadata": {},
   "outputs": [],
   "source": [
    "junio = pd.read_parquet('Taxi/yellow_tripdata_2023-06.parquet')\n"
   ]
  },
  {
   "cell_type": "code",
   "execution_count": 64,
   "metadata": {},
   "outputs": [],
   "source": [
    "junio = pd.merge(junio, taxi, on='PULocationID')"
   ]
  },
  {
   "cell_type": "code",
   "execution_count": 65,
   "metadata": {},
   "outputs": [],
   "source": [
    "junio.drop(['VendorID','passenger_count','RatecodeID','store_and_fwd_flag','PULocationID','DOLocationID','payment_type','extra',\n",
    "            'mta_tax','tip_amount','tolls_amount','improvement_surcharge','congestion_surcharge','Airport_fee','total_amount'], axis=1, inplace=True)"
   ]
  },
  {
   "cell_type": "code",
   "execution_count": 66,
   "metadata": {},
   "outputs": [],
   "source": [
    "borough_dataframes = {}\n",
    "for borough, group in junio.groupby('PUBorough'):\n",
    "    borough_dataframes[borough] = group\n",
    "\n",
    "# Acceder a los DataFrames individuales\n",
    "manhattan_jun = borough_dataframes['Manhattan']\n",
    "brooklyn_jun = borough_dataframes['Brooklyn']\n",
    "queens_jun = borough_dataframes['Queens']\n",
    "bronx_jun = borough_dataframes['Bronx']\n",
    "staten_island_jun = borough_dataframes['Staten Island']"
   ]
  },
  {
   "cell_type": "code",
   "execution_count": 67,
   "metadata": {},
   "outputs": [],
   "source": [
    "junio_manhattan01 = manhattan_jun.sample(frac=0.01, random_state=42)\n",
    "junio_brooklin01 = brooklyn_jun.sample(frac=0.01, random_state=42)\n",
    "junio_queens01 = queens_jun.sample(frac=0.01, random_state=42)\n",
    "junio_bronx01 = bronx_jun.sample(frac=0.01, random_state=42)\n",
    "junio_stand01 = staten_island_jun.sample(frac=0.01, random_state=42)"
   ]
  },
  {
   "cell_type": "code",
   "execution_count": 68,
   "metadata": {},
   "outputs": [],
   "source": [
    "junio_borough = pd.concat([junio_manhattan01, junio_brooklin01, junio_queens01, junio_bronx01, junio_stand01], ignore_index=True)"
   ]
  },
  {
   "cell_type": "code",
   "execution_count": 70,
   "metadata": {},
   "outputs": [],
   "source": [
    "junio_borough.to_csv('junio.csv')"
   ]
  },
  {
   "cell_type": "code",
   "execution_count": 78,
   "metadata": {},
   "outputs": [],
   "source": [
    "total = len(enero_borough) + len(febrero_borough) + len(marzo_borough) + len(abril_borough) + len(mayo_borough) + len(junio_borough)"
   ]
  },
  {
   "cell_type": "code",
   "execution_count": 82,
   "metadata": {},
   "outputs": [
    {
     "data": {
      "text/plain": [
       "192671"
      ]
     },
     "execution_count": 82,
     "metadata": {},
     "output_type": "execute_result"
    }
   ],
   "source": [
    "total"
   ]
  },
  {
   "cell_type": "code",
   "execution_count": 80,
   "metadata": {},
   "outputs": [],
   "source": [
    "dataframes = [enero_borough,febrero_borough,marzo_borough,abril_borough,mayo_borough,junio_borough]"
   ]
  },
  {
   "cell_type": "code",
   "execution_count": 81,
   "metadata": {},
   "outputs": [],
   "source": [
    "boroughs = pd.concat(dataframes, ignore_index=True)"
   ]
  },
  {
   "cell_type": "code",
   "execution_count": 84,
   "metadata": {},
   "outputs": [],
   "source": [
    "boroughs.to_csv('boroughs.csv')"
   ]
  },
  {
   "cell_type": "code",
   "execution_count": 6,
   "metadata": {},
   "outputs": [],
   "source": [
    "distritos = pd.read_csv('boroughs.csv')"
   ]
  },
  {
   "cell_type": "code",
   "execution_count": 9,
   "metadata": {},
   "outputs": [
    {
     "data": {
      "text/html": [
       "<div>\n",
       "<style scoped>\n",
       "    .dataframe tbody tr th:only-of-type {\n",
       "        vertical-align: middle;\n",
       "    }\n",
       "\n",
       "    .dataframe tbody tr th {\n",
       "        vertical-align: top;\n",
       "    }\n",
       "\n",
       "    .dataframe thead th {\n",
       "        text-align: right;\n",
       "    }\n",
       "</style>\n",
       "<table border=\"1\" class=\"dataframe\">\n",
       "  <thead>\n",
       "    <tr style=\"text-align: right;\">\n",
       "      <th></th>\n",
       "      <th>Unnamed: 0</th>\n",
       "      <th>tpep_pickup_datetime</th>\n",
       "      <th>tpep_dropoff_datetime</th>\n",
       "      <th>trip_distance</th>\n",
       "      <th>fare_amount</th>\n",
       "      <th>PUBorough</th>\n",
       "      <th>PUZone</th>\n",
       "      <th>service_zone</th>\n",
       "    </tr>\n",
       "  </thead>\n",
       "  <tbody>\n",
       "    <tr>\n",
       "      <th>55</th>\n",
       "      <td>55</td>\n",
       "      <td>2023-01-14 19:34:15</td>\n",
       "      <td>2023-01-14 19:51:24</td>\n",
       "      <td>0.0</td>\n",
       "      <td>20.57</td>\n",
       "      <td>Manhattan</td>\n",
       "      <td>Sutton Place/Turtle Bay North</td>\n",
       "      <td>Yellow Zone</td>\n",
       "    </tr>\n",
       "    <tr>\n",
       "      <th>129</th>\n",
       "      <td>129</td>\n",
       "      <td>2023-01-16 12:02:37</td>\n",
       "      <td>2023-01-16 12:09:27</td>\n",
       "      <td>0.0</td>\n",
       "      <td>7.20</td>\n",
       "      <td>Manhattan</td>\n",
       "      <td>Union Sq</td>\n",
       "      <td>Yellow Zone</td>\n",
       "    </tr>\n",
       "    <tr>\n",
       "      <th>255</th>\n",
       "      <td>255</td>\n",
       "      <td>2023-01-16 11:44:13</td>\n",
       "      <td>2023-01-16 11:44:36</td>\n",
       "      <td>0.0</td>\n",
       "      <td>3.00</td>\n",
       "      <td>Manhattan</td>\n",
       "      <td>Midtown South</td>\n",
       "      <td>Yellow Zone</td>\n",
       "    </tr>\n",
       "    <tr>\n",
       "      <th>369</th>\n",
       "      <td>369</td>\n",
       "      <td>2023-01-31 22:38:50</td>\n",
       "      <td>2023-01-31 22:39:19</td>\n",
       "      <td>0.0</td>\n",
       "      <td>79.99</td>\n",
       "      <td>Manhattan</td>\n",
       "      <td>Times Sq/Theatre District</td>\n",
       "      <td>Yellow Zone</td>\n",
       "    </tr>\n",
       "    <tr>\n",
       "      <th>465</th>\n",
       "      <td>465</td>\n",
       "      <td>2023-01-10 09:53:49</td>\n",
       "      <td>2023-01-10 10:09:01</td>\n",
       "      <td>0.0</td>\n",
       "      <td>13.03</td>\n",
       "      <td>Manhattan</td>\n",
       "      <td>East Harlem South</td>\n",
       "      <td>Boro Zone</td>\n",
       "    </tr>\n",
       "    <tr>\n",
       "      <th>...</th>\n",
       "      <td>...</td>\n",
       "      <td>...</td>\n",
       "      <td>...</td>\n",
       "      <td>...</td>\n",
       "      <td>...</td>\n",
       "      <td>...</td>\n",
       "      <td>...</td>\n",
       "      <td>...</td>\n",
       "    </tr>\n",
       "    <tr>\n",
       "      <th>192647</th>\n",
       "      <td>192647</td>\n",
       "      <td>2023-06-06 23:26:38</td>\n",
       "      <td>2023-06-07 00:03:05</td>\n",
       "      <td>0.0</td>\n",
       "      <td>31.20</td>\n",
       "      <td>Bronx</td>\n",
       "      <td>West Concourse</td>\n",
       "      <td>Boro Zone</td>\n",
       "    </tr>\n",
       "    <tr>\n",
       "      <th>192652</th>\n",
       "      <td>192652</td>\n",
       "      <td>2023-06-02 06:19:17</td>\n",
       "      <td>2023-06-02 07:07:20</td>\n",
       "      <td>0.0</td>\n",
       "      <td>46.50</td>\n",
       "      <td>Bronx</td>\n",
       "      <td>Bedford Park</td>\n",
       "      <td>Boro Zone</td>\n",
       "    </tr>\n",
       "    <tr>\n",
       "      <th>192656</th>\n",
       "      <td>192656</td>\n",
       "      <td>2023-06-20 07:33:31</td>\n",
       "      <td>2023-06-20 08:14:47</td>\n",
       "      <td>0.0</td>\n",
       "      <td>33.20</td>\n",
       "      <td>Bronx</td>\n",
       "      <td>Kingsbridge Heights</td>\n",
       "      <td>Boro Zone</td>\n",
       "    </tr>\n",
       "    <tr>\n",
       "      <th>192657</th>\n",
       "      <td>192657</td>\n",
       "      <td>2023-06-26 13:56:15</td>\n",
       "      <td>2023-06-26 15:25:23</td>\n",
       "      <td>0.0</td>\n",
       "      <td>61.50</td>\n",
       "      <td>Bronx</td>\n",
       "      <td>Melrose South</td>\n",
       "      <td>Boro Zone</td>\n",
       "    </tr>\n",
       "    <tr>\n",
       "      <th>192669</th>\n",
       "      <td>192669</td>\n",
       "      <td>2023-06-24 07:21:45</td>\n",
       "      <td>2023-06-24 08:12:34</td>\n",
       "      <td>0.0</td>\n",
       "      <td>67.20</td>\n",
       "      <td>Staten Island</td>\n",
       "      <td>Charleston/Tottenville</td>\n",
       "      <td>Boro Zone</td>\n",
       "    </tr>\n",
       "  </tbody>\n",
       "</table>\n",
       "<p>2415 rows × 8 columns</p>\n",
       "</div>"
      ],
      "text/plain": [
       "        Unnamed: 0 tpep_pickup_datetime tpep_dropoff_datetime  trip_distance   \n",
       "55              55  2023-01-14 19:34:15   2023-01-14 19:51:24            0.0  \\\n",
       "129            129  2023-01-16 12:02:37   2023-01-16 12:09:27            0.0   \n",
       "255            255  2023-01-16 11:44:13   2023-01-16 11:44:36            0.0   \n",
       "369            369  2023-01-31 22:38:50   2023-01-31 22:39:19            0.0   \n",
       "465            465  2023-01-10 09:53:49   2023-01-10 10:09:01            0.0   \n",
       "...            ...                  ...                   ...            ...   \n",
       "192647      192647  2023-06-06 23:26:38   2023-06-07 00:03:05            0.0   \n",
       "192652      192652  2023-06-02 06:19:17   2023-06-02 07:07:20            0.0   \n",
       "192656      192656  2023-06-20 07:33:31   2023-06-20 08:14:47            0.0   \n",
       "192657      192657  2023-06-26 13:56:15   2023-06-26 15:25:23            0.0   \n",
       "192669      192669  2023-06-24 07:21:45   2023-06-24 08:12:34            0.0   \n",
       "\n",
       "        fare_amount      PUBorough                         PUZone service_zone  \n",
       "55            20.57      Manhattan  Sutton Place/Turtle Bay North  Yellow Zone  \n",
       "129            7.20      Manhattan                       Union Sq  Yellow Zone  \n",
       "255            3.00      Manhattan                  Midtown South  Yellow Zone  \n",
       "369           79.99      Manhattan      Times Sq/Theatre District  Yellow Zone  \n",
       "465           13.03      Manhattan              East Harlem South    Boro Zone  \n",
       "...             ...            ...                            ...          ...  \n",
       "192647        31.20          Bronx                 West Concourse    Boro Zone  \n",
       "192652        46.50          Bronx                   Bedford Park    Boro Zone  \n",
       "192656        33.20          Bronx            Kingsbridge Heights    Boro Zone  \n",
       "192657        61.50          Bronx                  Melrose South    Boro Zone  \n",
       "192669        67.20  Staten Island         Charleston/Tottenville    Boro Zone  \n",
       "\n",
       "[2415 rows x 8 columns]"
      ]
     },
     "execution_count": 9,
     "metadata": {},
     "output_type": "execute_result"
    }
   ],
   "source": [
    "distritos[distritos['trip_distance'] == 0]"
   ]
  },
  {
   "cell_type": "code",
   "execution_count": 8,
   "metadata": {},
   "outputs": [],
   "source": [
    "distritos = distritos[(distritos['fare_amount'] > 0) & (distritos['trip_distance'] > 0) ]"
   ]
  },
  {
   "cell_type": "code",
   "execution_count": 24,
   "metadata": {},
   "outputs": [],
   "source": [
    "distritos.to_csv('distritos.csv')"
   ]
  },
  {
   "cell_type": "code",
   "execution_count": 20,
   "metadata": {},
   "outputs": [],
   "source": [
    "distritos = pd.read_csv('distritos.csv')"
   ]
  },
  {
   "cell_type": "code",
   "execution_count": 21,
   "metadata": {},
   "outputs": [],
   "source": [
    "distritos = distritos[(distritos['trip_distance'] >= 1) & (distritos['trip_distance'] <= 60)]"
   ]
  },
  {
   "cell_type": "code",
   "execution_count": 22,
   "metadata": {},
   "outputs": [],
   "source": [
    "distritos = distritos[(distritos['fare_amount'] >= 10) & (distritos['fare_amount'] <= 300)]"
   ]
  },
  {
   "cell_type": "code",
   "execution_count": 23,
   "metadata": {},
   "outputs": [
    {
     "data": {
      "text/html": [
       "<div>\n",
       "<style scoped>\n",
       "    .dataframe tbody tr th:only-of-type {\n",
       "        vertical-align: middle;\n",
       "    }\n",
       "\n",
       "    .dataframe tbody tr th {\n",
       "        vertical-align: top;\n",
       "    }\n",
       "\n",
       "    .dataframe thead th {\n",
       "        text-align: right;\n",
       "    }\n",
       "</style>\n",
       "<table border=\"1\" class=\"dataframe\">\n",
       "  <thead>\n",
       "    <tr style=\"text-align: right;\">\n",
       "      <th></th>\n",
       "      <th>Unnamed: 0.1</th>\n",
       "      <th>Unnamed: 0</th>\n",
       "      <th>tpep_pickup_datetime</th>\n",
       "      <th>tpep_dropoff_datetime</th>\n",
       "      <th>trip_distance</th>\n",
       "      <th>fare_amount</th>\n",
       "      <th>PUBorough</th>\n",
       "      <th>PUZone</th>\n",
       "      <th>service_zone</th>\n",
       "    </tr>\n",
       "  </thead>\n",
       "  <tbody>\n",
       "    <tr>\n",
       "      <th>0</th>\n",
       "      <td>0</td>\n",
       "      <td>0</td>\n",
       "      <td>2023-01-11 09:24:21</td>\n",
       "      <td>2023-01-11 09:33:29</td>\n",
       "      <td>1.12</td>\n",
       "      <td>10.0</td>\n",
       "      <td>Manhattan</td>\n",
       "      <td>UN/Turtle Bay South</td>\n",
       "      <td>Yellow Zone</td>\n",
       "    </tr>\n",
       "    <tr>\n",
       "      <th>1</th>\n",
       "      <td>1</td>\n",
       "      <td>1</td>\n",
       "      <td>2023-01-24 18:07:09</td>\n",
       "      <td>2023-01-24 18:28:29</td>\n",
       "      <td>2.85</td>\n",
       "      <td>20.5</td>\n",
       "      <td>Manhattan</td>\n",
       "      <td>Midtown Center</td>\n",
       "      <td>Yellow Zone</td>\n",
       "    </tr>\n",
       "    <tr>\n",
       "      <th>3</th>\n",
       "      <td>3</td>\n",
       "      <td>3</td>\n",
       "      <td>2023-01-19 16:38:52</td>\n",
       "      <td>2023-01-19 16:55:28</td>\n",
       "      <td>2.10</td>\n",
       "      <td>17.0</td>\n",
       "      <td>Manhattan</td>\n",
       "      <td>Midtown East</td>\n",
       "      <td>Yellow Zone</td>\n",
       "    </tr>\n",
       "    <tr>\n",
       "      <th>4</th>\n",
       "      <td>4</td>\n",
       "      <td>4</td>\n",
       "      <td>2023-01-15 13:51:17</td>\n",
       "      <td>2023-01-15 14:01:54</td>\n",
       "      <td>1.21</td>\n",
       "      <td>10.7</td>\n",
       "      <td>Manhattan</td>\n",
       "      <td>Union Sq</td>\n",
       "      <td>Yellow Zone</td>\n",
       "    </tr>\n",
       "    <tr>\n",
       "      <th>5</th>\n",
       "      <td>5</td>\n",
       "      <td>5</td>\n",
       "      <td>2023-01-12 17:25:44</td>\n",
       "      <td>2023-01-12 17:48:50</td>\n",
       "      <td>3.57</td>\n",
       "      <td>22.6</td>\n",
       "      <td>Manhattan</td>\n",
       "      <td>Upper West Side North</td>\n",
       "      <td>Yellow Zone</td>\n",
       "    </tr>\n",
       "    <tr>\n",
       "      <th>...</th>\n",
       "      <td>...</td>\n",
       "      <td>...</td>\n",
       "      <td>...</td>\n",
       "      <td>...</td>\n",
       "      <td>...</td>\n",
       "      <td>...</td>\n",
       "      <td>...</td>\n",
       "      <td>...</td>\n",
       "      <td>...</td>\n",
       "    </tr>\n",
       "    <tr>\n",
       "      <th>188680</th>\n",
       "      <td>192664</td>\n",
       "      <td>192664</td>\n",
       "      <td>2023-06-27 08:28:02</td>\n",
       "      <td>2023-06-27 09:00:09</td>\n",
       "      <td>7.10</td>\n",
       "      <td>32.5</td>\n",
       "      <td>Bronx</td>\n",
       "      <td>Woodlawn/Wakefield</td>\n",
       "      <td>Boro Zone</td>\n",
       "    </tr>\n",
       "    <tr>\n",
       "      <th>188681</th>\n",
       "      <td>192665</td>\n",
       "      <td>192665</td>\n",
       "      <td>2023-06-30 13:40:38</td>\n",
       "      <td>2023-06-30 14:06:19</td>\n",
       "      <td>1.80</td>\n",
       "      <td>18.5</td>\n",
       "      <td>Bronx</td>\n",
       "      <td>West Farms/Bronx River</td>\n",
       "      <td>Boro Zone</td>\n",
       "    </tr>\n",
       "    <tr>\n",
       "      <th>188682</th>\n",
       "      <td>192666</td>\n",
       "      <td>192666</td>\n",
       "      <td>2023-06-28 13:56:51</td>\n",
       "      <td>2023-06-28 14:17:49</td>\n",
       "      <td>3.30</td>\n",
       "      <td>25.5</td>\n",
       "      <td>Bronx</td>\n",
       "      <td>Hunts Point</td>\n",
       "      <td>Boro Zone</td>\n",
       "    </tr>\n",
       "    <tr>\n",
       "      <th>188683</th>\n",
       "      <td>192667</td>\n",
       "      <td>192667</td>\n",
       "      <td>2023-06-26 06:03:37</td>\n",
       "      <td>2023-06-26 06:33:43</td>\n",
       "      <td>6.40</td>\n",
       "      <td>40.5</td>\n",
       "      <td>Bronx</td>\n",
       "      <td>Melrose South</td>\n",
       "      <td>Boro Zone</td>\n",
       "    </tr>\n",
       "    <tr>\n",
       "      <th>188684</th>\n",
       "      <td>192668</td>\n",
       "      <td>192668</td>\n",
       "      <td>2023-06-26 05:33:35</td>\n",
       "      <td>2023-06-26 06:20:28</td>\n",
       "      <td>20.30</td>\n",
       "      <td>60.5</td>\n",
       "      <td>Staten Island</td>\n",
       "      <td>South Beach/Dongan Hills</td>\n",
       "      <td>Boro Zone</td>\n",
       "    </tr>\n",
       "  </tbody>\n",
       "</table>\n",
       "<p>131377 rows × 9 columns</p>\n",
       "</div>"
      ],
      "text/plain": [
       "        Unnamed: 0.1  Unnamed: 0 tpep_pickup_datetime tpep_dropoff_datetime   \n",
       "0                  0           0  2023-01-11 09:24:21   2023-01-11 09:33:29  \\\n",
       "1                  1           1  2023-01-24 18:07:09   2023-01-24 18:28:29   \n",
       "3                  3           3  2023-01-19 16:38:52   2023-01-19 16:55:28   \n",
       "4                  4           4  2023-01-15 13:51:17   2023-01-15 14:01:54   \n",
       "5                  5           5  2023-01-12 17:25:44   2023-01-12 17:48:50   \n",
       "...              ...         ...                  ...                   ...   \n",
       "188680        192664      192664  2023-06-27 08:28:02   2023-06-27 09:00:09   \n",
       "188681        192665      192665  2023-06-30 13:40:38   2023-06-30 14:06:19   \n",
       "188682        192666      192666  2023-06-28 13:56:51   2023-06-28 14:17:49   \n",
       "188683        192667      192667  2023-06-26 06:03:37   2023-06-26 06:33:43   \n",
       "188684        192668      192668  2023-06-26 05:33:35   2023-06-26 06:20:28   \n",
       "\n",
       "        trip_distance  fare_amount      PUBorough                    PUZone   \n",
       "0                1.12         10.0      Manhattan       UN/Turtle Bay South  \\\n",
       "1                2.85         20.5      Manhattan            Midtown Center   \n",
       "3                2.10         17.0      Manhattan              Midtown East   \n",
       "4                1.21         10.7      Manhattan                  Union Sq   \n",
       "5                3.57         22.6      Manhattan     Upper West Side North   \n",
       "...               ...          ...            ...                       ...   \n",
       "188680           7.10         32.5          Bronx        Woodlawn/Wakefield   \n",
       "188681           1.80         18.5          Bronx    West Farms/Bronx River   \n",
       "188682           3.30         25.5          Bronx               Hunts Point   \n",
       "188683           6.40         40.5          Bronx             Melrose South   \n",
       "188684          20.30         60.5  Staten Island  South Beach/Dongan Hills   \n",
       "\n",
       "       service_zone  \n",
       "0       Yellow Zone  \n",
       "1       Yellow Zone  \n",
       "3       Yellow Zone  \n",
       "4       Yellow Zone  \n",
       "5       Yellow Zone  \n",
       "...             ...  \n",
       "188680    Boro Zone  \n",
       "188681    Boro Zone  \n",
       "188682    Boro Zone  \n",
       "188683    Boro Zone  \n",
       "188684    Boro Zone  \n",
       "\n",
       "[131377 rows x 9 columns]"
      ]
     },
     "execution_count": 23,
     "metadata": {},
     "output_type": "execute_result"
    }
   ],
   "source": [
    "distritos"
   ]
  },
  {
   "cell_type": "code",
   "execution_count": 25,
   "metadata": {},
   "outputs": [],
   "source": [
    "distritosT = pd.read_csv('distritos.csv')"
   ]
  },
  {
   "cell_type": "code",
   "execution_count": 26,
   "metadata": {},
   "outputs": [
    {
     "name": "stdout",
     "output_type": "stream",
     "text": [
      "<class 'pandas.core.frame.DataFrame'>\n",
      "RangeIndex: 131377 entries, 0 to 131376\n",
      "Data columns (total 10 columns):\n",
      " #   Column                 Non-Null Count   Dtype  \n",
      "---  ------                 --------------   -----  \n",
      " 0   Unnamed: 0.2           131377 non-null  int64  \n",
      " 1   Unnamed: 0.1           131377 non-null  int64  \n",
      " 2   Unnamed: 0             131377 non-null  int64  \n",
      " 3   tpep_pickup_datetime   131377 non-null  object \n",
      " 4   tpep_dropoff_datetime  131377 non-null  object \n",
      " 5   trip_distance          131377 non-null  float64\n",
      " 6   fare_amount            131377 non-null  float64\n",
      " 7   PUBorough              131377 non-null  object \n",
      " 8   PUZone                 131377 non-null  object \n",
      " 9   service_zone           131377 non-null  object \n",
      "dtypes: float64(2), int64(3), object(5)\n",
      "memory usage: 10.0+ MB\n"
     ]
    }
   ],
   "source": [
    "distritosT.info()"
   ]
  },
  {
   "cell_type": "code",
   "execution_count": 29,
   "metadata": {},
   "outputs": [],
   "source": [
    "distritosT['tpep_pickup_datetime'] = pd.to_datetime(distritosT['tpep_pickup_datetime'])\n",
    "distritosT['tpep_dropoff_datetime'] = pd.to_datetime(distritosT['tpep_dropoff_datetime'])\n"
   ]
  },
  {
   "cell_type": "code",
   "execution_count": 30,
   "metadata": {},
   "outputs": [],
   "source": [
    "distritosT['duracion'] = (distritosT['tpep_dropoff_datetime'] - distritosT['tpep_pickup_datetime']).dt.total_seconds().astype(int)\n",
    "\n",
    "distritosT['tiempo'] = distritosT['duracion'].apply(lambda x: '{:02d}:{:02d}:{:02d}'.format(x // 3600, (x % 3600) // 60, x % 60))"
   ]
  },
  {
   "cell_type": "code",
   "execution_count": 36,
   "metadata": {},
   "outputs": [
    {
     "name": "stdout",
     "output_type": "stream",
     "text": [
      "<class 'pandas.core.frame.DataFrame'>\n",
      "RangeIndex: 131377 entries, 0 to 131376\n",
      "Data columns (total 16 columns):\n",
      " #   Column                 Non-Null Count   Dtype         \n",
      "---  ------                 --------------   -----         \n",
      " 0   Unnamed: 0.2           131377 non-null  int64         \n",
      " 1   Unnamed: 0.1           131377 non-null  int64         \n",
      " 2   Unnamed: 0             131377 non-null  int64         \n",
      " 3   tpep_pickup_datetime   131377 non-null  datetime64[ns]\n",
      " 4   tpep_dropoff_datetime  131377 non-null  datetime64[ns]\n",
      " 5   trip_distance          131377 non-null  float64       \n",
      " 6   fare_amount            131377 non-null  float64       \n",
      " 7   PUBorough              131377 non-null  object        \n",
      " 8   PUZone                 131377 non-null  object        \n",
      " 9   service_zone           131377 non-null  object        \n",
      " 10  duracion               131377 non-null  int32         \n",
      " 11  tiempo                 131377 non-null  object        \n",
      " 12  hora                   131377 non-null  int64         \n",
      " 13  minuto                 131377 non-null  int64         \n",
      " 14  segundo                131377 non-null  int64         \n",
      " 15  duracion_segundos      131377 non-null  int64         \n",
      "dtypes: datetime64[ns](2), float64(2), int32(1), int64(7), object(4)\n",
      "memory usage: 15.5+ MB\n"
     ]
    }
   ],
   "source": [
    "distritosT.info()"
   ]
  },
  {
   "cell_type": "code",
   "execution_count": 34,
   "metadata": {},
   "outputs": [],
   "source": [
    "distritosT[['hora', 'minuto', 'segundo']] = distritosT['tiempo'].str.split(':').apply(lambda x: pd.Series(map(int, x)))\n",
    "\n",
    "distritosT['duracion_segundos'] = distritosT['hora'] * 3600 + distritosT['minuto'] * 60 + distritosT['segundo']"
   ]
  },
  {
   "cell_type": "code",
   "execution_count": 38,
   "metadata": {},
   "outputs": [],
   "source": [
    "distritosT.drop(['Unnamed: 0.2','Unnamed: 0.1','Unnamed: 0','tpep_pickup_datetime','tpep_dropoff_datetime','PUBorough','PUZone','service_zone','duracion'],axis=1, inplace=True)"
   ]
  },
  {
   "cell_type": "code",
   "execution_count": 40,
   "metadata": {},
   "outputs": [],
   "source": [
    "distritosT.to_csv('borou_tiempo.csv')"
   ]
  }
 ],
 "metadata": {
  "kernelspec": {
   "display_name": "Python 3",
   "language": "python",
   "name": "python3"
  },
  "language_info": {
   "codemirror_mode": {
    "name": "ipython",
    "version": 3
   },
   "file_extension": ".py",
   "mimetype": "text/x-python",
   "name": "python",
   "nbconvert_exporter": "python",
   "pygments_lexer": "ipython3",
   "version": "3.10.11"
  }
 },
 "nbformat": 4,
 "nbformat_minor": 2
}
